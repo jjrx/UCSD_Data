{
 "cells": [
  {
   "cell_type": "code",
   "execution_count": 18,
   "metadata": {},
   "outputs": [],
   "source": [
    "# Dependencies\n",
    "import requests\n",
    "import json"
   ]
  },
  {
   "cell_type": "code",
   "execution_count": 19,
   "metadata": {},
   "outputs": [],
   "source": [
    "# Base URL for GET requests to retrieve number/date facts\n",
    "url = 'http://numbersapi.com/'"
   ]
  },
  {
   "cell_type": "code",
   "execution_count": 31,
   "metadata": {},
   "outputs": [
    {
     "name": "stdout",
     "output_type": "stream",
     "text": [
      "What type of data would you like to search for? [Trivia, Math, Date, or Year] date\n"
     ]
    }
   ],
   "source": [
    "# Ask the user what kind of data they would like to search for\n",
    "question = \"What type of data would you like to search for? [Trivia, Math, Date, or Year] \"\n",
    "fact_type = input(question).lower()"
   ]
  },
  {
   "cell_type": "code",
   "execution_count": 32,
   "metadata": {},
   "outputs": [
    {
     "name": "stdout",
     "output_type": "stream",
     "text": [
      "What month would you like to look for? 4\n",
      "What day would you like to look for? 13\n",
      "April 13th is the day in 1943 that the Jefferson Memorial is dedicated in Washington, D.C., on the 200th anniversary of Thomas Jefferson's birth.\n"
     ]
    }
   ],
   "source": [
    "# Create code to return a number fact\n",
    "if fact_type == 'date':\n",
    "    month = input(\"What month would you like to look for? \")\n",
    "    day = input(\"What day would you like to look for? \")\n",
    "    date_url = url + month + '/' + day + '/date?json'\n",
    "    response = requests.get(date_url).json()\n",
    "    print(f\"{response['text']}\")\n",
    "else: \n",
    "    number = input(\"What number would you like to search for? \")\n",
    "    num_url = url + number + '/' + fact_type + \"?json\"\n",
    "    response = requests.get(num_url).json()\n",
    "    print(f\"{response['text']}\")"
   ]
  },
  {
   "cell_type": "code",
   "execution_count": null,
   "metadata": {},
   "outputs": [],
   "source": []
  }
 ],
 "metadata": {
  "kernelspec": {
   "display_name": "Python 3",
   "language": "python",
   "name": "python3"
  },
  "language_info": {
   "codemirror_mode": {
    "name": "ipython",
    "version": 3
   },
   "file_extension": ".py",
   "mimetype": "text/x-python",
   "name": "python",
   "nbconvert_exporter": "python",
   "pygments_lexer": "ipython3",
   "version": "3.6.5"
  },
  "varInspector": {
   "cols": {
    "lenName": 16,
    "lenType": 16,
    "lenVar": 40
   },
   "kernels_config": {
    "python": {
     "delete_cmd_postfix": "",
     "delete_cmd_prefix": "del ",
     "library": "var_list.py",
     "varRefreshCmd": "print(var_dic_list())"
    },
    "r": {
     "delete_cmd_postfix": ") ",
     "delete_cmd_prefix": "rm(",
     "library": "var_list.r",
     "varRefreshCmd": "cat(var_dic_list()) "
    }
   },
   "types_to_exclude": [
    "module",
    "function",
    "builtin_function_or_method",
    "instance",
    "_Feature"
   ],
   "window_display": false
  }
 },
 "nbformat": 4,
 "nbformat_minor": 2
}
