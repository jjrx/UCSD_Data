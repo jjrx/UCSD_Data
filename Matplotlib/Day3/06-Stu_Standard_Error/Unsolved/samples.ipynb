{
 "cells": [
  {
   "cell_type": "code",
   "execution_count": 9,
   "metadata": {},
   "outputs": [],
   "source": [
    "# Dependencies\n",
    "from matplotlib import pyplot as plt\n",
    "import numpy as np\n",
    "import pandas as pd\n",
    "from scipy.stats import sem"
   ]
  },
  {
   "cell_type": "code",
   "execution_count": 2,
   "metadata": {},
   "outputs": [
    {
     "data": {
      "text/html": [
       "<div>\n",
       "<style scoped>\n",
       "    .dataframe tbody tr th:only-of-type {\n",
       "        vertical-align: middle;\n",
       "    }\n",
       "\n",
       "    .dataframe tbody tr th {\n",
       "        vertical-align: top;\n",
       "    }\n",
       "\n",
       "    .dataframe thead th {\n",
       "        text-align: right;\n",
       "    }\n",
       "</style>\n",
       "<table border=\"1\" class=\"dataframe\">\n",
       "  <thead>\n",
       "    <tr style=\"text-align: right;\">\n",
       "      <th></th>\n",
       "      <th>0.00632</th>\n",
       "      <th>18.00</th>\n",
       "      <th>2.310</th>\n",
       "      <th>0</th>\n",
       "      <th>0.5380</th>\n",
       "      <th>6.5750</th>\n",
       "      <th>65.20</th>\n",
       "      <th>4.0900</th>\n",
       "      <th>1</th>\n",
       "      <th>296.0</th>\n",
       "      <th>15.30</th>\n",
       "      <th>396.90</th>\n",
       "      <th>4.98</th>\n",
       "      <th>24.00</th>\n",
       "    </tr>\n",
       "  </thead>\n",
       "  <tbody>\n",
       "    <tr>\n",
       "      <th>0</th>\n",
       "      <td>0.44178</td>\n",
       "      <td>0.0</td>\n",
       "      <td>6.20</td>\n",
       "      <td>0</td>\n",
       "      <td>0.504</td>\n",
       "      <td>6.552</td>\n",
       "      <td>21.4</td>\n",
       "      <td>3.3751</td>\n",
       "      <td>8</td>\n",
       "      <td>307.0</td>\n",
       "      <td>17.4</td>\n",
       "      <td>380.34</td>\n",
       "      <td>3.76</td>\n",
       "      <td>31.5</td>\n",
       "    </tr>\n",
       "    <tr>\n",
       "      <th>1</th>\n",
       "      <td>0.12269</td>\n",
       "      <td>0.0</td>\n",
       "      <td>6.91</td>\n",
       "      <td>0</td>\n",
       "      <td>0.448</td>\n",
       "      <td>6.069</td>\n",
       "      <td>40.0</td>\n",
       "      <td>5.7209</td>\n",
       "      <td>3</td>\n",
       "      <td>233.0</td>\n",
       "      <td>17.9</td>\n",
       "      <td>389.39</td>\n",
       "      <td>9.55</td>\n",
       "      <td>21.2</td>\n",
       "    </tr>\n",
       "    <tr>\n",
       "      <th>2</th>\n",
       "      <td>3.84970</td>\n",
       "      <td>0.0</td>\n",
       "      <td>18.10</td>\n",
       "      <td>1</td>\n",
       "      <td>0.770</td>\n",
       "      <td>6.395</td>\n",
       "      <td>91.0</td>\n",
       "      <td>2.5052</td>\n",
       "      <td>24</td>\n",
       "      <td>666.0</td>\n",
       "      <td>20.2</td>\n",
       "      <td>391.34</td>\n",
       "      <td>13.27</td>\n",
       "      <td>21.7</td>\n",
       "    </tr>\n",
       "    <tr>\n",
       "      <th>3</th>\n",
       "      <td>0.06642</td>\n",
       "      <td>0.0</td>\n",
       "      <td>4.05</td>\n",
       "      <td>0</td>\n",
       "      <td>0.510</td>\n",
       "      <td>6.860</td>\n",
       "      <td>74.4</td>\n",
       "      <td>2.9153</td>\n",
       "      <td>5</td>\n",
       "      <td>296.0</td>\n",
       "      <td>16.6</td>\n",
       "      <td>391.27</td>\n",
       "      <td>6.92</td>\n",
       "      <td>29.9</td>\n",
       "    </tr>\n",
       "    <tr>\n",
       "      <th>4</th>\n",
       "      <td>0.04301</td>\n",
       "      <td>80.0</td>\n",
       "      <td>1.91</td>\n",
       "      <td>0</td>\n",
       "      <td>0.413</td>\n",
       "      <td>5.663</td>\n",
       "      <td>21.9</td>\n",
       "      <td>10.5857</td>\n",
       "      <td>4</td>\n",
       "      <td>334.0</td>\n",
       "      <td>22.0</td>\n",
       "      <td>382.80</td>\n",
       "      <td>8.05</td>\n",
       "      <td>18.2</td>\n",
       "    </tr>\n",
       "  </tbody>\n",
       "</table>\n",
       "</div>"
      ],
      "text/plain": [
       "   0.00632  18.00  2.310  0  0.5380  6.5750  65.20   4.0900   1  296.0  15.30  \\\n",
       "0  0.44178    0.0   6.20  0   0.504   6.552   21.4   3.3751   8  307.0   17.4   \n",
       "1  0.12269    0.0   6.91  0   0.448   6.069   40.0   5.7209   3  233.0   17.9   \n",
       "2  3.84970    0.0  18.10  1   0.770   6.395   91.0   2.5052  24  666.0   20.2   \n",
       "3  0.06642    0.0   4.05  0   0.510   6.860   74.4   2.9153   5  296.0   16.6   \n",
       "4  0.04301   80.0   1.91  0   0.413   5.663   21.9  10.5857   4  334.0   22.0   \n",
       "\n",
       "   396.90   4.98  24.00  \n",
       "0  380.34   3.76   31.5  \n",
       "1  389.39   9.55   21.2  \n",
       "2  391.34  13.27   21.7  \n",
       "3  391.27   6.92   29.9  \n",
       "4  382.80   8.05   18.2  "
      ]
     },
     "execution_count": 2,
     "metadata": {},
     "output_type": "execute_result"
    }
   ],
   "source": [
    "# Read and shuffle data\n",
    "housing_data = pd.read_csv(\"../Resources/housing_data.csv\")\n",
    "housing_data = housing_data.sample(frac=1).reset_index(drop=True)\n",
    "housing_data.head()"
   ]
  },
  {
   "cell_type": "code",
   "execution_count": 13,
   "metadata": {},
   "outputs": [
    {
     "name": "stdout",
     "output_type": "stream",
     "text": [
      "[ 0  1  2  3  4  5  6  7  8  9 10 11 12 13 14 15 16 17 18 19 20 21 22 23\n",
      " 24]\n"
     ]
    }
   ],
   "source": [
    "# Create a bunch of samples, each with div items\n",
    "div = 20\n",
    "lim = len(housing_data) // div\n",
    "samples = [housing_data.iloc[(i * div):(i * div + div), 13]\n",
    "           for i in range(0, lim)]\n",
    "x_axis = np.arange(0, len(samples), 1)\n",
    "print(x_axis)"
   ]
  },
  {
   "cell_type": "code",
   "execution_count": 18,
   "metadata": {},
   "outputs": [
    {
     "name": "stdout",
     "output_type": "stream",
     "text": [
      "means: [19.840000000000003, 21.585, 24.839999999999996, 20.595, 19.925000000000004, 21.46, 20.395, 21.924999999999997, 23.0, 19.860000000000003, 25.42, 23.24, 27.315000000000005, 21.805, 19.935000000000002, 25.1, 21.775000000000002, 24.075000000000003, 21.535, 21.045, 22.665, 25.575, 23.695, 22.25, 22.805]\n",
      "standard errors: [1.1301467068249893, 1.735803696759576, 1.9713794262153752, 1.961074826130867, 1.9971015181217526, 2.636778337289655, 1.8214290947957377, 1.9042594222868956, 2.1798358219201543, 1.782109926315906, 2.1721636072916115, 2.08371378982209, 1.9581177186267429, 1.6803269575325293, 1.9615820011838456, 2.3002517024745015, 2.087933692736232, 2.301622711319811, 2.2136332958331315, 2.482395648943725, 1.8140863294028524, 2.2464811665311033, 2.2444021006659396, 2.0573552260890167, 1.9949208531985214]\n"
     ]
    }
   ],
   "source": [
    "means = [np.mean(s) for s in samples]\n",
    "print(f\"means: {means}\")\n",
    "std_errors = [sem(s) for s in samples]\n",
    "print(f\"standard errors: {std_errors}\")"
   ]
  },
  {
   "cell_type": "code",
   "execution_count": 23,
   "metadata": {},
   "outputs": [
    {
     "data": {
      "text/plain": [
       "<matplotlib.legend.Legend at 0x1a22980d68>"
      ]
     },
     "execution_count": 23,
     "metadata": {},
     "output_type": "execute_result"
    },
    {
     "data": {
      "image/png": "[encoded data removed]",
      "text/plain": [
       "<Figure size 432x288 with 1 Axes>"
      ]
     },
     "metadata": {},
     "output_type": "display_data"
    }
   ],
   "source": [
    "fig, ax = plt.subplots()\n",
    "ax.errorbar(x_axis, means, yerr=std_errors, fmt='o', color='coral', alpha=0.5, label=\"Mean of House Prices\")\n",
    "ax.set_xlabel(\"Sample Number\")\n",
    "ax.set_ylabel(\"Mean of Median House Prices\")\n",
    "plt.legend(loc=\"best\", fontsize=\"small\", fancybox=True)"
   ]
  },
  {
   "cell_type": "code",
   "execution_count": null,
   "metadata": {},
   "outputs": [],
   "source": []
  }
 ],
 "metadata": {
  "kernelspec": {
   "display_name": "Python 3",
   "language": "python",
   "name": "python3"
  },
  "language_info": {
   "codemirror_mode": {
    "name": "ipython",
    "version": 3
   },
   "file_extension": ".py",
   "mimetype": "text/x-python",
   "name": "python",
   "nbconvert_exporter": "python",
   "pygments_lexer": "ipython3",
   "version": "3.6.5"
  }
 },
 "nbformat": 4,
 "nbformat_minor": 2
}
