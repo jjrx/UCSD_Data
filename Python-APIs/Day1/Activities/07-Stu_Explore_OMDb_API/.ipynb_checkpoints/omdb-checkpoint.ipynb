{
 "cells": [
  {
   "cell_type": "code",
   "execution_count": 1,
   "metadata": {},
   "outputs": [],
   "source": [
    "from pprint import pprint"
   ]
  },
  {
   "cell_type": "code",
   "execution_count": 2,
   "metadata": {},
   "outputs": [],
   "source": [
    "import requests\n",
    "import json"
   ]
  },
  {
   "cell_type": "code",
   "execution_count": 3,
   "metadata": {},
   "outputs": [],
   "source": [
    "url = \"http://www.omdbapi.com/?t=\"\n",
    "api_key = \"&apikey=trilogy\""
   ]
  },
  {
   "cell_type": "code",
   "execution_count": 8,
   "metadata": {},
   "outputs": [
    {
     "name": "stdout",
     "output_type": "stream",
     "text": [
      "{'Actors': 'Ellen Burstyn, Matthew McConaughey, Mackenzie Foy, John Lithgow',\n",
      " 'Awards': 'Won 1 Oscar. Another 43 wins & 143 nominations.',\n",
      " 'BoxOffice': '$158,737,441',\n",
      " 'Country': 'USA, UK',\n",
      " 'DVD': '31 Mar 2015',\n",
      " 'Director': 'Christopher Nolan',\n",
      " 'Genre': 'Adventure, Drama, Sci-Fi',\n",
      " 'Language': 'English',\n",
      " 'Metascore': '74',\n",
      " 'Plot': 'A team of explorers travel through a wormhole in space in an attempt '\n",
      "         \"to ensure humanity's survival.\",\n",
      " 'Poster': 'https://m.media-amazon.com/images/M/MV5BZjdkOTU3MDktN2IxOS00OGEyLWFmMjktY2FiMmZkNWIyODZiXkEyXkFqcGdeQXVyMTMxODk2OTU@._V1_SX300.jpg',\n",
      " 'Production': 'Paramount Pictures',\n",
      " 'Rated': 'PG-13',\n",
      " 'Ratings': [{'Source': 'Internet Movie Database', 'Value': '8.6/10'},\n",
      "             {'Source': 'Rotten Tomatoes', 'Value': '71%'},\n",
      "             {'Source': 'Metacritic', 'Value': '74/100'}],\n",
      " 'Released': '07 Nov 2014',\n",
      " 'Response': 'True',\n",
      " 'Runtime': '169 min',\n",
      " 'Title': 'Interstellar',\n",
      " 'Type': 'movie',\n",
      " 'Website': 'http://www.InterstellarMovie.com/',\n",
      " 'Writer': 'Jonathan Nolan, Christopher Nolan',\n",
      " 'Year': '2014',\n",
      " 'imdbID': 'tt0816692',\n",
      " 'imdbRating': '8.6',\n",
      " 'imdbVotes': '1,193,213'}\n"
     ]
    }
   ],
   "source": [
    "response = requests.get(url + 'Interstellar' + api_key)\n",
    "json_response = response.json()\n",
    "pprint(json_response)"
   ]
  },
  {
   "cell_type": "code",
   "execution_count": 11,
   "metadata": {},
   "outputs": [
    {
     "name": "stdout",
     "output_type": "stream",
     "text": [
      "The director of Interstellar is Christopher Nolan.\n",
      "Interstellar is rated 8.6/10.\n"
     ]
    }
   ],
   "source": [
    "print(f\"The director of {json_response['Title']} is {json_response['Director']}.\")\n",
    "print(f\"{json_response['Title']} is rated {json_response['Ratings'][0]['Value']}.\")"
   ]
  },
  {
   "cell_type": "code",
   "execution_count": null,
   "metadata": {},
   "outputs": [],
   "source": []
  }
 ],
 "metadata": {
  "kernelspec": {
   "display_name": "Python 3",
   "language": "python",
   "name": "python3"
  },
  "language_info": {
   "codemirror_mode": {
    "name": "ipython",
    "version": 3
   },
   "file_extension": ".py",
   "mimetype": "text/x-python",
   "name": "python",
   "nbconvert_exporter": "python",
   "pygments_lexer": "ipython3",
   "version": "3.6.5"
  }
 },
 "nbformat": 4,
 "nbformat_minor": 2
}
