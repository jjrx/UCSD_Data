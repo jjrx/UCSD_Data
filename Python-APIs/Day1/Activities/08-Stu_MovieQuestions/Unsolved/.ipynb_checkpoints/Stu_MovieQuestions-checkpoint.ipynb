{
 "cells": [
  {
   "cell_type": "code",
   "execution_count": 2,
   "metadata": {},
   "outputs": [],
   "source": [
    "# Dependencies\n",
    "import requests\n",
    "import json\n",
    "from pprint import pprint\n",
    "url = \"http://www.omdbapi.com/?apikey=trilogy&t=\""
   ]
  },
  {
   "cell_type": "code",
   "execution_count": 5,
   "metadata": {},
   "outputs": [
    {
     "name": "stdout",
     "output_type": "stream",
     "text": [
      "The director of Aliens is James Cameron.\n"
     ]
    }
   ],
   "source": [
    "# Who was the director of the movie Aliens?\n",
    "response = requests.get(url + 'Aliens').json()\n",
    "#pprint(response)\n",
    "print(f\"The director of {response['Title']} is {response['Director']}.\")"
   ]
  },
  {
   "cell_type": "code",
   "execution_count": 8,
   "metadata": {
    "scrolled": true
   },
   "outputs": [
    {
     "name": "stdout",
     "output_type": "stream",
     "text": [
      "The movie Gladiator is Rated R.\n"
     ]
    }
   ],
   "source": [
    "# What was the movie Gladiator rated?\n",
    "response = requests.get(url + 'Gladiator').json()\n",
    "#pprint(response)\n",
    "print(f\"The movie {response['Title']} is Rated {response['Rated']}.\")"
   ]
  },
  {
   "cell_type": "code",
   "execution_count": 30,
   "metadata": {},
   "outputs": [
    {
     "name": "stdout",
     "output_type": "stream",
     "text": [
      "The movie 50 First Dates was released in 2004.\n"
     ]
    }
   ],
   "source": [
    "# What year was 50 First Dates released?\n",
    "response = requests.get(url + '50 First Dates').json()\n",
    "#pprint(response)\n",
    "print(f\"The movie {response['Title']} was released in {response['Year']}.\")"
   ]
  },
  {
   "cell_type": "code",
   "execution_count": 52,
   "metadata": {
    "scrolled": true
   },
   "outputs": [
    {
     "name": "stdout",
     "output_type": "stream",
     "text": [
      "Jared Bush\n",
      "The main writer of Moana is Jared Bush.\n"
     ]
    }
   ],
   "source": [
    "# Who wrote Moana?\n",
    "response = requests.get(url + 'Moana').json()\n",
    "#pprint(response)\n",
    "writers = response['Writer'].split(\",\")\n",
    "primary_writer = writers[0]\n",
    "writer1 = \" \".join(primary_writer.split(\" \")[:2])\n",
    "\n",
    "print(writer1)\n",
    "print(f\"The main writer of {response['Title']} is {writer1}.\")"
   ]
  },
  {
   "cell_type": "code",
   "execution_count": 25,
   "metadata": {
    "scrolled": true
   },
   "outputs": [
    {
     "name": "stdout",
     "output_type": "stream",
     "text": [
      "The plot of Sing: In a city of humanoid animals, a hustling theater impresario's attempt to save his theater with a singing competition becomes grander than he anticipates even as its finalists' find that their lives will never be the same..\n"
     ]
    }
   ],
   "source": [
    "# What was the plot of the movie Sing?\n",
    "response = requests.get(url + 'Sing').json()\n",
    "#pprint(response)\n",
    "print(f\"The plot of {response['Title']}: {response['Plot']}.\")"
   ]
  },
  {
   "cell_type": "code",
   "execution_count": null,
   "metadata": {},
   "outputs": [],
   "source": []
  }
 ],
 "metadata": {
  "kernelspec": {
   "display_name": "Python 3",
   "language": "python",
   "name": "python3"
  },
  "language_info": {
   "codemirror_mode": {
    "name": "ipython",
    "version": 3
   },
   "file_extension": ".py",
   "mimetype": "text/x-python",
   "name": "python",
   "nbconvert_exporter": "python",
   "pygments_lexer": "ipython3",
   "version": "3.6.5"
  },
  "varInspector": {
   "cols": {
    "lenName": 16,
    "lenType": 16,
    "lenVar": 40
   },
   "kernels_config": {
    "python": {
     "delete_cmd_postfix": "",
     "delete_cmd_prefix": "del ",
     "library": "var_list.py",
     "varRefreshCmd": "print(var_dic_list())"
    },
    "r": {
     "delete_cmd_postfix": ") ",
     "delete_cmd_prefix": "rm(",
     "library": "var_list.r",
     "varRefreshCmd": "cat(var_dic_list()) "
    }
   },
   "types_to_exclude": [
    "module",
    "function",
    "builtin_function_or_method",
    "instance",
    "_Feature"
   ],
   "window_display": false
  }
 },
 "nbformat": 4,
 "nbformat_minor": 2
}
