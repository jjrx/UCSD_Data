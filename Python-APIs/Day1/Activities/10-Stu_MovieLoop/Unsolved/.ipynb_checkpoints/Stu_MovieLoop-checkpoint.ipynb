{
 "cells": [
  {
   "cell_type": "code",
   "execution_count": 1,
   "metadata": {},
   "outputs": [],
   "source": [
    "# Dependencies\n",
    "import requests\n",
    "import json\n",
    "from pprint import pprint\n",
    "\n",
    "url = \"http://www.omdbapi.com/?apikey=trilogy&t=\"\n",
    "\n",
    "movies = [\"Aliens\", \"Sing\", \"Moana\"]"
   ]
  },
  {
   "cell_type": "code",
   "execution_count": 25,
   "metadata": {},
   "outputs": [
    {
     "name": "stdout",
     "output_type": "stream",
     "text": [
      "Making request number 0 for the movie Aliens..\n",
      "Director(s): James Cameron\n",
      "Making request number 1 for the movie Sing..\n",
      "Director(s): Garth Jennings, Christophe Lourdelet(co-director)\n",
      "Making request number 2 for the movie Moana..\n",
      "Director(s): Ron Clements, John Musker, Don Hall(co-director), Chris Williams(co-director)\n",
      "List of directors: ['James Cameron', 'Garth Jennings, Christophe Lourdelet(co-director)', 'Ron Clements, John Musker, Don Hall(co-director), Chris Williams(co-director)']\n",
      "\n",
      "Dictionary of directors: {'Aliens': 'James Cameron', 'Sing': 'Garth Jennings, Christophe Lourdelet(co-director)', 'Moana': 'Ron Clements, John Musker, Don Hall(co-director), Chris Williams(co-director)'}\n",
      "\n",
      "The director of 'Aliens' is James Cameron.\n",
      "The director of 'Sing' is Garth Jennings, Christophe Lourdelet(co-director).\n",
      "The director of 'Moana' is Ron Clements, John Musker, Don Hall(co-director), Chris Williams(co-director).\n"
     ]
    }
   ],
   "source": [
    "directors = []\n",
    "direct_dict = {}\n",
    "for x in range(len(movies)):\n",
    "    print(f\"Making request number {x} for the movie {movies[x]}..\")\n",
    "    response = requests.get(url + movies[x]).json()\n",
    "    print(f\"Director(s): {response['Director']}\")\n",
    "    directors.append(response['Director'])\n",
    "    direct_dict[response['Title']] = response['Director']\n",
    "\n",
    "# List comprehension alternative\n",
    "# directors = [requests.get(url + movies[x]).json()['Director'] for x in range(len(movies))]\n",
    "\n",
    "print(f\"List of directors: {directors}\\n\")\n",
    "print(f\"Dictionary of directors: {direct_dict}\\n\")\n",
    "\n",
    "# Additional: dictionary to associate movie title with director\n",
    "for key, value in direct_dict.items():\n",
    "    print(f\"The director of '{key}' is {value}.\")"
   ]
  },
  {
   "cell_type": "code",
   "execution_count": null,
   "metadata": {},
   "outputs": [],
   "source": []
  }
 ],
 "metadata": {
  "kernelspec": {
   "display_name": "Python 3",
   "language": "python",
   "name": "python3"
  },
  "language_info": {
   "codemirror_mode": {
    "name": "ipython",
    "version": 3
   },
   "file_extension": ".py",
   "mimetype": "text/x-python",
   "name": "python",
   "nbconvert_exporter": "python",
   "pygments_lexer": "ipython3",
   "version": "3.6.5"
  },
  "varInspector": {
   "cols": {
    "lenName": 16,
    "lenType": 16,
    "lenVar": 40
   },
   "kernels_config": {
    "python": {
     "delete_cmd_postfix": "",
     "delete_cmd_prefix": "del ",
     "library": "var_list.py",
     "varRefreshCmd": "print(var_dic_list())"
    },
    "r": {
     "delete_cmd_postfix": ") ",
     "delete_cmd_prefix": "rm(",
     "library": "var_list.r",
     "varRefreshCmd": "cat(var_dic_list()) "
    }
   },
   "types_to_exclude": [
    "module",
    "function",
    "builtin_function_or_method",
    "instance",
    "_Feature"
   ],
   "window_display": false
  }
 },
 "nbformat": 4,
 "nbformat_minor": 2
}
