{
 "cells": [
  {
   "cell_type": "code",
   "execution_count": 1,
   "metadata": {},
   "outputs": [],
   "source": [
    "# Dependencies\n",
    "import requests\n",
    "import json"
   ]
  },
  {
   "cell_type": "code",
   "execution_count": 9,
   "metadata": {},
   "outputs": [],
   "source": [
    "# URL for GET requests to retrieve vehicle data\n",
    "url = \"https://api.spacexdata.com/v2/capsules\""
   ]
  },
  {
   "cell_type": "code",
   "execution_count": 10,
   "metadata": {},
   "outputs": [
    {
     "name": "stdout",
     "output_type": "stream",
     "text": [
      "[{'id': 'dragon1', 'name': 'Dragon 1', 'type': 'capsule', 'active': True, 'crew_capacity': 0, 'sidewall_angle_deg': 15, 'orbit_duration_yr': 2, 'heat_shield': {'material': 'PICA-X', 'size_meters': 3.6, 'temp_degrees': 3000, 'dev_partner': 'NASA'}, 'thrusters': [{'type': 'Draco', 'amount': 18, 'pods': 4, 'fuel_1': 'nitrogen tetroxide', 'fuel_2': 'monomethylhydrazine', 'thrust': {'kN': 0.4, 'lbf': 90}}], 'launch_payload_mass': {'kg': 6000, 'lb': 13228}, 'launch_payload_vol': {'cubic_meters': 25, 'cubic_feet': 883}, 'return_payload_mass': {'kg': 3000, 'lb': 6614}, 'return_payload_vol': {'cubic_meters': 11, 'cubic_feet': 388}, 'pressurized_capsule': {'payload_volume': {'cubic_meters': 11, 'cubic_feet': 388}}, 'trunk': {'trunk_volume': {'cubic_meters': 14, 'cubic_feet': 494}, 'cargo': {'solar_array': 2, 'unpressurized_cargo': True}}, 'height_w_trunk': {'meters': 7.2, 'feet': 23.6}, 'diameter': {'meters': 3.7, 'feet': 12}}, {'id': 'dragon2', 'name': 'Dragon 2', 'type': 'capsule', 'active': False, 'crew_capacity': 0, 'sidewall_angle_deg': 15, 'orbit_duration_yr': 2, 'heat_shield': {'material': 'PICA-X', 'size_meters': 3.6, 'temp_degrees': 3000, 'dev_partner': 'NASA'}, 'thrusters': [{'type': 'Draco', 'amount': 18, 'pods': 4, 'fuel_1': 'nitrogen tetroxide', 'fuel_2': 'monomethylhydrazine', 'thrust': {'kN': 0.4, 'lbf': 90}}], 'launch_payload_mass': {'kg': 6000, 'lb': 13228}, 'launch_payload_vol': {'cubic_meters': 25, 'cubic_feet': 883}, 'return_payload_mass': {'kg': 3000, 'lb': 6614}, 'return_payload_vol': {'cubic_meters': 11, 'cubic_feet': 388}, 'pressurized_capsule': {'payload_volume': {'cubic_meters': 11, 'cubic_feet': 388}}, 'trunk': {'trunk_volume': {'cubic_meters': 14, 'cubic_feet': 494}, 'cargo': {'solar_array': 2, 'unpressurized_cargo': True}}, 'height_w_trunk': {'meters': 7.2, 'feet': 23.6}, 'diameter': {'meters': 3.7, 'feet': 12}}, {'id': 'crewdragon', 'name': 'Crew Dragon', 'type': 'capsule', 'active': False, 'crew_capacity': 7, 'sidewall_angle_deg': 15, 'orbit_duration_yr': 2, 'heat_shield': {'material': 'PICA-X', 'size_meters': 3.6, 'temp_degrees': 3000, 'dev_partner': 'NASA'}, 'thrusters': [{'type': 'Draco', 'amount': 18, 'pods': 4, 'fuel_1': 'nitrogen tetroxide', 'fuel_2': 'monomethylhydrazine', 'thrust': {'kN': 0.4, 'lbf': 90}}, {'type': 'SuperDraco', 'amount': 8, 'pods': 4, 'fuel_1': 'dinitrogen tetroxide', 'fuel_2': 'monomethylhydrazine', 'thrust': {'kN': 71, 'lbf': 16000}}], 'launch_payload_mass': {'kg': 6000, 'lb': 13228}, 'launch_payload_vol': {'cubic_meters': 25, 'cubic_feet': 883}, 'return_payload_mass': {'kg': 3000, 'lb': 6614}, 'return_payload_vol': {'cubic_meters': 11, 'cubic_feet': 388}, 'pressurized_capsule': {'payload_volume': {'cubic_meters': 11, 'cubic_feet': 388}}, 'trunk': {'trunk_volume': {'cubic_meters': 14, 'cubic_feet': 494}, 'cargo': {'solar_array': 2, 'unpressurized_cargo': True}}, 'height_w_trunk': {'meters': 7.2, 'feet': 23.6}, 'diameter': {'meters': 3.7, 'feet': 12}}]\n"
     ]
    }
   ],
   "source": [
    "# Pretty print JSON for all capsules\n",
    "print(requests.get(url).json())"
   ]
  },
  {
   "cell_type": "code",
   "execution_count": 20,
   "metadata": {},
   "outputs": [
    {
     "name": "stdout",
     "output_type": "stream",
     "text": [
      "{'id': 'dragon2', 'name': 'Dragon 2', 'type': 'capsule', 'active': False, 'crew_capacity': 0, 'sidewall_angle_deg': 15, 'orbit_duration_yr': 2, 'heat_shield': {'material': 'PICA-X', 'size_meters': 3.6, 'temp_degrees': 3000, 'dev_partner': 'NASA'}, 'thrusters': [{'type': 'Draco', 'amount': 18, 'pods': 4, 'fuel_1': 'nitrogen tetroxide', 'fuel_2': 'monomethylhydrazine', 'thrust': {'kN': 0.4, 'lbf': 90}}], 'launch_payload_mass': {'kg': 6000, 'lb': 13228}, 'launch_payload_vol': {'cubic_meters': 25, 'cubic_feet': 883}, 'return_payload_mass': {'kg': 3000, 'lb': 6614}, 'return_payload_vol': {'cubic_meters': 11, 'cubic_feet': 388}, 'pressurized_capsule': {'payload_volume': {'cubic_meters': 11, 'cubic_feet': 388}}, 'trunk': {'trunk_volume': {'cubic_meters': 14, 'cubic_feet': 494}, 'cargo': {'solar_array': 2, 'unpressurized_cargo': True}}, 'height_w_trunk': {'meters': 7.2, 'feet': 23.6}, 'diameter': {'meters': 3.7, 'feet': 12}}\n",
      "{\n",
      "    \"active\": false,\n",
      "    \"crew_capacity\": 0,\n",
      "    \"diameter\": {\n",
      "        \"feet\": 12,\n",
      "        \"meters\": 3.7\n",
      "    },\n",
      "    \"heat_shield\": {\n",
      "        \"dev_partner\": \"NASA\",\n",
      "        \"material\": \"PICA-X\",\n",
      "        \"size_meters\": 3.6,\n",
      "        \"temp_degrees\": 3000\n",
      "    },\n",
      "    \"height_w_trunk\": {\n",
      "        \"feet\": 23.6,\n",
      "        \"meters\": 7.2\n",
      "    },\n",
      "    \"id\": \"dragon2\",\n",
      "    \"launch_payload_mass\": {\n",
      "        \"kg\": 6000,\n",
      "        \"lb\": 13228\n",
      "    },\n",
      "    \"launch_payload_vol\": {\n",
      "        \"cubic_feet\": 883,\n",
      "        \"cubic_meters\": 25\n",
      "    },\n",
      "    \"name\": \"Dragon 2\",\n",
      "    \"orbit_duration_yr\": 2,\n",
      "    \"pressurized_capsule\": {\n",
      "        \"payload_volume\": {\n",
      "            \"cubic_feet\": 388,\n",
      "            \"cubic_meters\": 11\n",
      "        }\n",
      "    },\n",
      "    \"return_payload_mass\": {\n",
      "        \"kg\": 3000,\n",
      "        \"lb\": 6614\n",
      "    },\n",
      "    \"return_payload_vol\": {\n",
      "        \"cubic_feet\": 388,\n",
      "        \"cubic_meters\": 11\n",
      "    },\n",
      "    \"sidewall_angle_deg\": 15,\n",
      "    \"thrusters\": [\n",
      "        {\n",
      "            \"amount\": 18,\n",
      "            \"fuel_1\": \"nitrogen tetroxide\",\n",
      "            \"fuel_2\": \"monomethylhydrazine\",\n",
      "            \"pods\": 4,\n",
      "            \"thrust\": {\n",
      "                \"kN\": 0.4,\n",
      "                \"lbf\": 90\n",
      "            },\n",
      "            \"type\": \"Draco\"\n",
      "        }\n",
      "    ],\n",
      "    \"trunk\": {\n",
      "        \"cargo\": {\n",
      "            \"solar_array\": 2,\n",
      "            \"unpressurized_cargo\": true\n",
      "        },\n",
      "        \"trunk_volume\": {\n",
      "            \"cubic_feet\": 494,\n",
      "            \"cubic_meters\": 14\n",
      "        }\n",
      "    },\n",
      "    \"type\": \"capsule\"\n",
      "}\n"
     ]
    }
   ],
   "source": [
    "# Pretty print JSON for a specific capsule\n",
    "url_spec = url + \"/dragon2\"\n",
    "response = requests.get(url_spec).json()\n",
    "print(response)\n",
    "print(json.dumps(response,indent=4, sort_keys=True))"
   ]
  },
  {
   "cell_type": "code",
   "execution_count": 21,
   "metadata": {},
   "outputs": [
    {
     "data": {
      "text/plain": [
       "dict_keys(['id', 'name', 'type', 'active', 'crew_capacity', 'sidewall_angle_deg', 'orbit_duration_yr', 'heat_shield', 'thrusters', 'launch_payload_mass', 'launch_payload_vol', 'return_payload_mass', 'return_payload_vol', 'pressurized_capsule', 'trunk', 'height_w_trunk', 'diameter'])"
      ]
     },
     "execution_count": 21,
     "metadata": {},
     "output_type": "execute_result"
    }
   ],
   "source": [
    "response.keys()"
   ]
  },
  {
   "cell_type": "code",
   "execution_count": 22,
   "metadata": {},
   "outputs": [
    {
     "data": {
      "text/plain": [
       "'NASA'"
      ]
     },
     "execution_count": 22,
     "metadata": {},
     "output_type": "execute_result"
    }
   ],
   "source": [
    "response['heat_shield']['dev_partner']"
   ]
  },
  {
   "cell_type": "code",
   "execution_count": null,
   "metadata": {},
   "outputs": [],
   "source": []
  }
 ],
 "metadata": {
  "kernelspec": {
   "display_name": "Python 3",
   "language": "python",
   "name": "python3"
  },
  "language_info": {
   "codemirror_mode": {
    "name": "ipython",
    "version": 3
   },
   "file_extension": ".py",
   "mimetype": "text/x-python",
   "name": "python",
   "nbconvert_exporter": "python",
   "pygments_lexer": "ipython3",
   "version": "3.6.5"
  },
  "varInspector": {
   "cols": {
    "lenName": 16,
    "lenType": 16,
    "lenVar": 40
   },
   "kernels_config": {
    "python": {
     "delete_cmd_postfix": "",
     "delete_cmd_prefix": "del ",
     "library": "var_list.py",
     "varRefreshCmd": "print(var_dic_list())"
    },
    "r": {
     "delete_cmd_postfix": ") ",
     "delete_cmd_prefix": "rm(",
     "library": "var_list.r",
     "varRefreshCmd": "cat(var_dic_list()) "
    }
   },
   "types_to_exclude": [
    "module",
    "function",
    "builtin_function_or_method",
    "instance",
    "_Feature"
   ],
   "window_display": false
  }
 },
 "nbformat": 4,
 "nbformat_minor": 2
}
