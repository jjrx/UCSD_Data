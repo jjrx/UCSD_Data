{
 "cells": [
  {
   "cell_type": "code",
   "execution_count": 28,
   "metadata": {},
   "outputs": [
    {
     "name": "stdout",
     "output_type": "stream",
     "text": [
      "Article #20: https://www.nytimes.com/aponline/2018/07/23/business/ap-us-tesla-stock.html \n",
      "Snippet: Tesla's finances rather than its cars were once again in focus Monday following a report that the company asked suppliers for refunds to help it turn a profit.\n",
      "\n",
      "Article #21: https://www.nytimes.com/reuters/2018/07/17/business/17reuters-tesla-ceo.html \n",
      "Snippet: Shares of Tesla Inc fell over 3.5 percent on Monday after Chief Executive Elon Musk directed abuse on Twitter at one of the British cavers involved in the rescue of 12 Thai children last week.\n",
      "\n",
      "Article #22: https://www.nytimes.com/2018/07/11/opinion/thailand-boys-cave.html \n",
      "Snippet: The public-relations potential of the boys’ plight wasn’t lost on the junta.\n",
      "\n",
      "Article #23: https://www.nytimes.com/aponline/2018/07/16/business/ap-us-business-highlights.html \n",
      "Snippet: \n",
      "\n",
      "Article #24: https://www.nytimes.com/aponline/2018/07/23/us/ap-fbc-tennessee-rape-trial.html \n",
      "Snippet: A prosecutor in the trial of former Tennessee football players A.J. Johnson and Michael Williams says they used their status as athletes to rape a woman in a \"case about power, privilege and protection.\"\n",
      "\n",
      "Article #25: https://www.nytimes.com/reuters/2018/07/24/business/24reuters-tesla-bonds.html \n",
      "Snippet: The amount investors must pay to insure their debt holdings in Tesla Inc against declining credit quality rose on Monday to its second-highest price ever, implying the company is at a greater risk of default following a report that sparked concern...\n",
      "\n",
      "Article #26: https://www.nytimes.com/reuters/2018/07/23/business/23reuters-tesla-bonds.html \n",
      "Snippet: The amount investors must pay to insure their debt holdings in Tesla Inc against declining credit quality rose on Monday to its second-highest price ever, implying the company is at a greater risk of default following a report that sparked concern...\n",
      "\n",
      "Article #27: https://www.nytimes.com/reuters/2018/07/17/technology/17reuters-thailand-accident-cave-tesla.html \n",
      "Snippet: A British caver who helped rescue 12 boys from a Thai cave said on Tuesday that he has been approached by British and American lawyers and will seek legal advice after Tesla CEO Elon Musk directed abuse at him on Twitter.\n",
      "\n",
      "Article #28: https://www.nytimes.com/reuters/2018/07/19/business/19reuters-tesla-cuba-cobalt-exclusive.html \n",
      "Snippet: Panasonic Corp said it was unable to determine how much of the cobalt used in batteries it makes for Tesla cars comes from Cuba, a country subject to U.S. sanctions, and that it had suspended relations with a Canadian supplier as a result of its c...\n",
      "\n",
      "Article #29: https://www.nytimes.com/aponline/2018/07/18/business/ap-us-business-highlights.html \n",
      "Snippet: \n",
      "\n"
     ]
    }
   ],
   "source": [
    "# Dependencies\n",
    "import requests\n",
    "from config import api_key\n",
    "from pprint import pprint\n",
    "\n",
    "url = \"https://api.nytimes.com/svc/search/v2/articlesearch.json?\"\n",
    "\n",
    "# Store a search term\n",
    "query = 'elon'\n",
    "\n",
    "# Search for articles published between a begin and end date\n",
    "begin_date = 20180701 # YYYYMMDD\n",
    "end_date = 20180726\n",
    "\n",
    "# BONUS: How would we get 30 results? request 3x and append each response to a list\n",
    "# HINT: Look up the page query param\n",
    "page = '2'\n",
    "\n",
    "# Build url\n",
    "query_url = url + \"api-key=\" + api_key + \"&q=\" + query + \"&begin_date=\" + str(begin_date) + \"&end_date=\" + str(end_date) + \"&page=\" + page\n",
    "response = requests.get(query_url).json()\n",
    "articles = [article for article in response['response']['docs']]\n",
    "#pprint(articles)\n",
    "\n",
    "# Retrieve articles\n",
    "index = 0 + 10*int(page)\n",
    "for article in articles:\n",
    "    print(f\"Article #{index}: {article['web_url']} \\nSnippet: {article['snippet']}\\n\")\n",
    "    index += 1"
   ]
  },
  {
   "cell_type": "code",
   "execution_count": null,
   "metadata": {},
   "outputs": [],
   "source": []
  }
 ],
 "metadata": {
  "kernelspec": {
   "display_name": "Python 3",
   "language": "python",
   "name": "python3"
  },
  "language_info": {
   "codemirror_mode": {
    "name": "ipython",
    "version": 3
   },
   "file_extension": ".py",
   "mimetype": "text/x-python",
   "name": "python",
   "nbconvert_exporter": "python",
   "pygments_lexer": "ipython3",
   "version": "3.6.5"
  },
  "varInspector": {
   "cols": {
    "lenName": 16,
    "lenType": 16,
    "lenVar": 40
   },
   "kernels_config": {
    "python": {
     "delete_cmd_postfix": "",
     "delete_cmd_prefix": "del ",
     "library": "var_list.py",
     "varRefreshCmd": "print(var_dic_list())"
    },
    "r": {
     "delete_cmd_postfix": ") ",
     "delete_cmd_prefix": "rm(",
     "library": "var_list.r",
     "varRefreshCmd": "cat(var_dic_list()) "
    }
   },
   "types_to_exclude": [
    "module",
    "function",
    "builtin_function_or_method",
    "instance",
    "_Feature"
   ],
   "window_display": false
  }
 },
 "nbformat": 4,
 "nbformat_minor": 2
}
