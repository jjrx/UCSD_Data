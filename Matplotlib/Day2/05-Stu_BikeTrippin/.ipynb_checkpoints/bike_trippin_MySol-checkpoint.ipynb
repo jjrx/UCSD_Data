{
 "cells": [
  {
   "cell_type": "markdown",
   "metadata": {},
   "source": [
    "# Bike Trippin\n",
    "\n",
    "For this assignment, you will be taking \"Cycle Share\" data from Seattle and creating charts to determine which gender borrows and uses bikes more often.\n",
    "\n",
    "* Import your dependencies and then import your data into a pandas data frame from the CSV within the 'Data' folder\n",
    "* Split up your data into groups based upon the gender column\n",
    "    * NOTE: There will be a garbage row with a gender of 'stoptime' which you will have to remove!\n",
    "* Chart your data using a bar graph, giving it both a title and labels for the axes"
   ]
  },
  {
   "cell_type": "code",
   "execution_count": 1,
   "metadata": {},
   "outputs": [],
   "source": [
    "import pandas as pd\n",
    "import matplotlib.pyplot as plt\n",
    "import numpy as np"
   ]
  },
  {
   "cell_type": "code",
   "execution_count": 2,
   "metadata": {},
   "outputs": [
    {
     "data": {
      "text/html": [
       "<div>\n",
       "<style scoped>\n",
       "    .dataframe tbody tr th:only-of-type {\n",
       "        vertical-align: middle;\n",
       "    }\n",
       "\n",
       "    .dataframe tbody tr th {\n",
       "        vertical-align: top;\n",
       "    }\n",
       "\n",
       "    .dataframe thead th {\n",
       "        text-align: right;\n",
       "    }\n",
       "</style>\n",
       "<table border=\"1\" class=\"dataframe\">\n",
       "  <thead>\n",
       "    <tr style=\"text-align: right;\">\n",
       "      <th></th>\n",
       "      <th>stoptime</th>\n",
       "      <th>bikeid</th>\n",
       "      <th>tripduration</th>\n",
       "      <th>from_station_name</th>\n",
       "      <th>to_station_name</th>\n",
       "      <th>from_station_id</th>\n",
       "      <th>to_station_id</th>\n",
       "      <th>usertype</th>\n",
       "      <th>gender</th>\n",
       "      <th>birthyear</th>\n",
       "    </tr>\n",
       "  </thead>\n",
       "  <tbody>\n",
       "    <tr>\n",
       "      <th>0</th>\n",
       "      <td>10/13/2014 10:48</td>\n",
       "      <td>SEA00298</td>\n",
       "      <td>985.935</td>\n",
       "      <td>2nd Ave &amp; Spring St</td>\n",
       "      <td>Occidental Park / Occidental Ave S &amp; S Washing...</td>\n",
       "      <td>CBD-06</td>\n",
       "      <td>PS-04</td>\n",
       "      <td>Member</td>\n",
       "      <td>Male</td>\n",
       "      <td>1960</td>\n",
       "    </tr>\n",
       "    <tr>\n",
       "      <th>1</th>\n",
       "      <td>10/13/2014 10:48</td>\n",
       "      <td>SEA00195</td>\n",
       "      <td>926.375</td>\n",
       "      <td>2nd Ave &amp; Spring St</td>\n",
       "      <td>Occidental Park / Occidental Ave S &amp; S Washing...</td>\n",
       "      <td>CBD-06</td>\n",
       "      <td>PS-04</td>\n",
       "      <td>Member</td>\n",
       "      <td>Male</td>\n",
       "      <td>1970</td>\n",
       "    </tr>\n",
       "    <tr>\n",
       "      <th>2</th>\n",
       "      <td>10/13/2014 10:48</td>\n",
       "      <td>SEA00486</td>\n",
       "      <td>883.831</td>\n",
       "      <td>2nd Ave &amp; Spring St</td>\n",
       "      <td>Occidental Park / Occidental Ave S &amp; S Washing...</td>\n",
       "      <td>CBD-06</td>\n",
       "      <td>PS-04</td>\n",
       "      <td>Member</td>\n",
       "      <td>Female</td>\n",
       "      <td>1988</td>\n",
       "    </tr>\n",
       "    <tr>\n",
       "      <th>3</th>\n",
       "      <td>10/13/2014 10:48</td>\n",
       "      <td>SEA00333</td>\n",
       "      <td>865.937</td>\n",
       "      <td>2nd Ave &amp; Spring St</td>\n",
       "      <td>Occidental Park / Occidental Ave S &amp; S Washing...</td>\n",
       "      <td>CBD-06</td>\n",
       "      <td>PS-04</td>\n",
       "      <td>Member</td>\n",
       "      <td>Female</td>\n",
       "      <td>1977</td>\n",
       "    </tr>\n",
       "    <tr>\n",
       "      <th>4</th>\n",
       "      <td>10/13/2014 10:49</td>\n",
       "      <td>SEA00202</td>\n",
       "      <td>923.923</td>\n",
       "      <td>2nd Ave &amp; Spring St</td>\n",
       "      <td>Occidental Park / Occidental Ave S &amp; S Washing...</td>\n",
       "      <td>CBD-06</td>\n",
       "      <td>PS-04</td>\n",
       "      <td>Member</td>\n",
       "      <td>Male</td>\n",
       "      <td>1971</td>\n",
       "    </tr>\n",
       "  </tbody>\n",
       "</table>\n",
       "</div>"
      ],
      "text/plain": [
       "           stoptime    bikeid  tripduration    from_station_name  \\\n",
       "0  10/13/2014 10:48  SEA00298       985.935  2nd Ave & Spring St   \n",
       "1  10/13/2014 10:48  SEA00195       926.375  2nd Ave & Spring St   \n",
       "2  10/13/2014 10:48  SEA00486       883.831  2nd Ave & Spring St   \n",
       "3  10/13/2014 10:48  SEA00333       865.937  2nd Ave & Spring St   \n",
       "4  10/13/2014 10:49  SEA00202       923.923  2nd Ave & Spring St   \n",
       "\n",
       "                                     to_station_name from_station_id  \\\n",
       "0  Occidental Park / Occidental Ave S & S Washing...          CBD-06   \n",
       "1  Occidental Park / Occidental Ave S & S Washing...          CBD-06   \n",
       "2  Occidental Park / Occidental Ave S & S Washing...          CBD-06   \n",
       "3  Occidental Park / Occidental Ave S & S Washing...          CBD-06   \n",
       "4  Occidental Park / Occidental Ave S & S Washing...          CBD-06   \n",
       "\n",
       "  to_station_id usertype  gender birthyear  \n",
       "0         PS-04   Member    Male      1960  \n",
       "1         PS-04   Member    Male      1970  \n",
       "2         PS-04   Member  Female      1988  \n",
       "3         PS-04   Member  Female      1977  \n",
       "4         PS-04   Member    Male      1971  "
      ]
     },
     "execution_count": 2,
     "metadata": {},
     "output_type": "execute_result"
    }
   ],
   "source": [
    "bikes_df = pd.read_csv('Resources/trip.csv', low_memory=False)\n",
    "bikes_df.head()"
   ]
  },
  {
   "cell_type": "code",
   "execution_count": 3,
   "metadata": {},
   "outputs": [
    {
     "data": {
      "text/plain": [
       "gender\n",
       "Female       37562\n",
       "Male        140564\n",
       "Other         3431\n",
       "stoptime         1\n",
       "Name: gender, dtype: int64"
      ]
     },
     "execution_count": 3,
     "metadata": {},
     "output_type": "execute_result"
    }
   ],
   "source": [
    "gender_group = bikes_df.groupby(\"gender\")\n",
    "genders = gender_group[\"gender\"].count()\n",
    "genders"
   ]
  },
  {
   "cell_type": "code",
   "execution_count": 4,
   "metadata": {},
   "outputs": [
    {
     "data": {
      "text/plain": [
       "gender\n",
       "Female     37562\n",
       "Male      140564\n",
       "Other       3431\n",
       "Name: gender, dtype: int64"
      ]
     },
     "execution_count": 4,
     "metadata": {},
     "output_type": "execute_result"
    }
   ],
   "source": [
    "# remove stoptime value\n",
    "genders.drop(genders.index[3], inplace=True)\n",
    "genders"
   ]
  },
  {
   "cell_type": "code",
   "execution_count": 5,
   "metadata": {},
   "outputs": [
    {
     "data": {
      "text/plain": [
       "SEA00281    835\n",
       "SEA00035    782\n",
       "SEA00308    770\n",
       "SEA00456    767\n",
       "SEA00390    763\n",
       "SEA00374    762\n",
       "SEA00205    759\n",
       "SEA00443    758\n",
       "SEA00183    757\n",
       "SEA00368    757\n",
       "SEA00472    755\n",
       "SEA00025    746\n",
       "SEA00242    745\n",
       "SEA00341    745\n",
       "SEA00172    744\n",
       "SEA00173    741\n",
       "SEA00194    738\n",
       "SEA00218    737\n",
       "SEA00234    735\n",
       "SEA00312    733\n",
       "SEA00153    733\n",
       "SEA00212    733\n",
       "SEA00198    732\n",
       "SEA00470    732\n",
       "SEA00475    730\n",
       "SEA00301    730\n",
       "SEA00429    728\n",
       "SEA00115    728\n",
       "SEA00452    728\n",
       "SEA00356    728\n",
       "           ... \n",
       "SEA00251    234\n",
       "SEA00355    232\n",
       "SEA00344    230\n",
       "SEA00014    224\n",
       "SEA00011    215\n",
       "SEA00016    202\n",
       "SEA00441    202\n",
       "SEA00017    201\n",
       "SEA00013    197\n",
       "SEA00015    186\n",
       "SEA00001    180\n",
       "SEA00006    175\n",
       "SEA00005    170\n",
       "SEA00163    161\n",
       "SEA00269    161\n",
       "SEA00077    145\n",
       "SEA00406    140\n",
       "SEA00007     97\n",
       "SEA00367     96\n",
       "SEA00366     90\n",
       "SEA00123     66\n",
       "SEA00076     58\n",
       "SEA00225     54\n",
       "SEA00050     46\n",
       "SEA00331     36\n",
       "SEA00378     26\n",
       "SEA00130     18\n",
       "SEA00018     12\n",
       "SEA00020      4\n",
       "SEA99997      2\n",
       "Name: bikeid, Length: 493, dtype: int64"
      ]
     },
     "execution_count": 5,
     "metadata": {},
     "output_type": "execute_result"
    }
   ],
   "source": [
    "bikes_df[\"bikeid\"].value_counts()"
   ]
  },
  {
   "cell_type": "code",
   "execution_count": 6,
   "metadata": {},
   "outputs": [
    {
     "data": {
      "text/plain": [
       "Text(0,0.5,'Bikes Purchased')"
      ]
     },
     "execution_count": 6,
     "metadata": {},
     "output_type": "execute_result"
    },
    {
     "data": {
      "image/png": "[encoded data removed]",
      "text/plain": [
       "<Figure size 432x288 with 1 Axes>"
      ]
     },
     "metadata": {},
     "output_type": "display_data"
    }
   ],
   "source": [
    "gender_graph = genders.plot(kind='bar')\n",
    "gender_graph.set_xlabel(\"Gender\")\n",
    "gender_graph.set_ylabel(\"Bikes Purchased\")"
   ]
  },
  {
   "cell_type": "markdown",
   "metadata": {},
   "source": [
    "# Bonus!\n",
    "\n",
    "You will now take the same base data frame before and create some code that will allow you to create individual pie charts for each bike. For this part of the activity, we want you to chart the total 'Trip Duration' of each bike, sorted by gender. Bonus points if you can come up with a method to do this without using loc or iloc to filter the original data frame! You can use loc to filter group data though."
   ]
  },
  {
   "cell_type": "code",
   "execution_count": 13,
   "metadata": {},
   "outputs": [
    {
     "data": {
      "text/plain": [
       "Index(['tripduration'], dtype='object')"
      ]
     },
     "execution_count": 13,
     "metadata": {},
     "output_type": "execute_result"
    }
   ],
   "source": [
    "bike_group = bikes_df.groupby([\"bikeid\", \"gender\"])\n",
    "bikes = duration_group.sum()\n",
    "bikes\n",
    "bike_id = \"SEA00005\"\n",
    "\n",
    "one_bike = bikes.loc[bike_id, :]\n",
    "gender_list = one_bike.keys()\n",
    "gender_list\n",
    "# bike_graph = bikes.plot(x=bikes, kind=\"pie\")"
   ]
  },
  {
   "cell_type": "code",
   "execution_count": 19,
   "metadata": {},
   "outputs": [
    {
     "data": {
      "text/plain": [
       "(-1.1179865645900413,\n",
       " 1.1008565030757163,\n",
       " -1.114629182086359,\n",
       " 1.1019096919217148)"
      ]
     },
     "execution_count": 19,
     "metadata": {},
     "output_type": "execute_result"
    },
    {
     "data": {
      "image/png": "[encoded data removed]",
      "text/plain": [
       "<Figure size 432x288 with 1 Axes>"
      ]
     },
     "metadata": {},
     "output_type": "display_data"
    }
   ],
   "source": [
    "bike_pie = one_bike.plot(kind=\"pie\", y=gender_list, title=(\"Trips of \" + bike_id), autopct=\"%.2f%%\")\n",
    "bike_pie.set_ylabel(\"Trip Duration\")\n",
    "bike_pie.axis(\"equal\")"
   ]
  },
  {
   "cell_type": "code",
   "execution_count": null,
   "metadata": {},
   "outputs": [],
   "source": []
  },
  {
   "cell_type": "code",
   "execution_count": null,
   "metadata": {},
   "outputs": [],
   "source": []
  }
 ],
 "metadata": {
  "kernelspec": {
   "display_name": "Python 3",
   "language": "python",
   "name": "python3"
  },
  "language_info": {
   "codemirror_mode": {
    "name": "ipython",
    "version": 3
   },
   "file_extension": ".py",
   "mimetype": "text/x-python",
   "name": "python",
   "nbconvert_exporter": "python",
   "pygments_lexer": "ipython3",
   "version": "3.6.5"
  }
 },
 "nbformat": 4,
 "nbformat_minor": 2
}
